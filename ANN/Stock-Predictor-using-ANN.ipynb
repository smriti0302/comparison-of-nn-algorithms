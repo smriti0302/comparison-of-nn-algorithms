{
 "cells": [
  {
   "cell_type": "code",
   "execution_count": 23,
   "metadata": {
    "collapsed": false,
    "deletable": true,
    "editable": true,
    "scrolled": true
   },
   "outputs": [
    {
     "name": "stderr",
     "output_type": "stream",
     "text": [
      "C:\\Users\\Sivakumar\\AppData\\Local\\Temp\\ipykernel_34072\\4109505646.py:4: FutureWarning: The pandas.datetime class is deprecated and will be removed from pandas in a future version. Import from datetime module instead.\n",
      "  from pandas import datetime\n"
     ]
    }
   ],
   "source": [
    "import numpy as np\n",
    "import matplotlib.pyplot as plt\n",
    "import pandas as pd\n",
    "from pandas import datetime\n",
    "import math\n",
    "from math import sqrt\n",
    "from keras.models import Sequential\n",
    "from keras.layers.core import Dense, Dropout, Activation"
   ]
  },
  {
   "cell_type": "code",
   "execution_count": 25,
   "metadata": {
    "collapsed": false,
    "deletable": true,
    "editable": true
   },
   "outputs": [
    {
     "data": {
      "text/html": [
       "<div>\n",
       "<style scoped>\n",
       "    .dataframe tbody tr th:only-of-type {\n",
       "        vertical-align: middle;\n",
       "    }\n",
       "\n",
       "    .dataframe tbody tr th {\n",
       "        vertical-align: top;\n",
       "    }\n",
       "\n",
       "    .dataframe thead th {\n",
       "        text-align: right;\n",
       "    }\n",
       "</style>\n",
       "<table border=\"1\" class=\"dataframe\">\n",
       "  <thead>\n",
       "    <tr style=\"text-align: right;\">\n",
       "      <th></th>\n",
       "      <th>Open</th>\n",
       "      <th>High</th>\n",
       "      <th>Low</th>\n",
       "      <th>Close</th>\n",
       "      <th>Volume</th>\n",
       "    </tr>\n",
       "  </thead>\n",
       "  <tbody>\n",
       "    <tr>\n",
       "      <th>0</th>\n",
       "      <td>23.350000</td>\n",
       "      <td>23.35</td>\n",
       "      <td>21.150000</td>\n",
       "      <td>21.150000</td>\n",
       "      <td>124154.0</td>\n",
       "    </tr>\n",
       "    <tr>\n",
       "      <th>1</th>\n",
       "      <td>23.900000</td>\n",
       "      <td>24.50</td>\n",
       "      <td>22.200001</td>\n",
       "      <td>22.200001</td>\n",
       "      <td>199628.0</td>\n",
       "    </tr>\n",
       "    <tr>\n",
       "      <th>2</th>\n",
       "      <td>24.000000</td>\n",
       "      <td>24.50</td>\n",
       "      <td>22.775000</td>\n",
       "      <td>22.775000</td>\n",
       "      <td>182016.0</td>\n",
       "    </tr>\n",
       "    <tr>\n",
       "      <th>3</th>\n",
       "      <td>24.450001</td>\n",
       "      <td>25.00</td>\n",
       "      <td>24.000000</td>\n",
       "      <td>25.000000</td>\n",
       "      <td>90512.0</td>\n",
       "    </tr>\n",
       "    <tr>\n",
       "      <th>4</th>\n",
       "      <td>24.299999</td>\n",
       "      <td>25.00</td>\n",
       "      <td>23.950001</td>\n",
       "      <td>23.950001</td>\n",
       "      <td>81260.0</td>\n",
       "    </tr>\n",
       "  </tbody>\n",
       "</table>\n",
       "</div>"
      ],
      "text/plain": [
       "        Open   High        Low      Close    Volume\n",
       "0  23.350000  23.35  21.150000  21.150000  124154.0\n",
       "1  23.900000  24.50  22.200001  22.200001  199628.0\n",
       "2  24.000000  24.50  22.775000  22.775000  182016.0\n",
       "3  24.450001  25.00  24.000000  25.000000   90512.0\n",
       "4  24.299999  25.00  23.950001  23.950001   81260.0"
      ]
     },
     "execution_count": 25,
     "metadata": {},
     "output_type": "execute_result"
    }
   ],
   "source": [
    "url = \"Technology.csv\"\n",
    "df = pd.read_csv(url)\n",
    "df.head()"
   ]
  },
  {
   "cell_type": "code",
   "execution_count": 26,
   "metadata": {
    "collapsed": false,
    "deletable": true,
    "editable": true
   },
   "outputs": [
    {
     "data": {
      "text/html": [
       "<div>\n",
       "<style scoped>\n",
       "    .dataframe tbody tr th:only-of-type {\n",
       "        vertical-align: middle;\n",
       "    }\n",
       "\n",
       "    .dataframe tbody tr th {\n",
       "        vertical-align: top;\n",
       "    }\n",
       "\n",
       "    .dataframe thead th {\n",
       "        text-align: right;\n",
       "    }\n",
       "</style>\n",
       "<table border=\"1\" class=\"dataframe\">\n",
       "  <thead>\n",
       "    <tr style=\"text-align: right;\">\n",
       "      <th></th>\n",
       "      <th>Open</th>\n",
       "      <th>High</th>\n",
       "      <th>Close</th>\n",
       "      <th>Volume</th>\n",
       "    </tr>\n",
       "  </thead>\n",
       "  <tbody>\n",
       "    <tr>\n",
       "      <th>0</th>\n",
       "      <td>23.350000</td>\n",
       "      <td>23.35</td>\n",
       "      <td>21.150000</td>\n",
       "      <td>124154.0</td>\n",
       "    </tr>\n",
       "    <tr>\n",
       "      <th>1</th>\n",
       "      <td>23.900000</td>\n",
       "      <td>24.50</td>\n",
       "      <td>22.200001</td>\n",
       "      <td>199628.0</td>\n",
       "    </tr>\n",
       "    <tr>\n",
       "      <th>2</th>\n",
       "      <td>24.000000</td>\n",
       "      <td>24.50</td>\n",
       "      <td>22.775000</td>\n",
       "      <td>182016.0</td>\n",
       "    </tr>\n",
       "    <tr>\n",
       "      <th>3</th>\n",
       "      <td>24.450001</td>\n",
       "      <td>25.00</td>\n",
       "      <td>25.000000</td>\n",
       "      <td>90512.0</td>\n",
       "    </tr>\n",
       "    <tr>\n",
       "      <th>4</th>\n",
       "      <td>24.299999</td>\n",
       "      <td>25.00</td>\n",
       "      <td>23.950001</td>\n",
       "      <td>81260.0</td>\n",
       "    </tr>\n",
       "  </tbody>\n",
       "</table>\n",
       "</div>"
      ],
      "text/plain": [
       "        Open   High      Close    Volume\n",
       "0  23.350000  23.35  21.150000  124154.0\n",
       "1  23.900000  24.50  22.200001  199628.0\n",
       "2  24.000000  24.50  22.775000  182016.0\n",
       "3  24.450001  25.00  25.000000   90512.0\n",
       "4  24.299999  25.00  23.950001   81260.0"
      ]
     },
     "execution_count": 26,
     "metadata": {},
     "output_type": "execute_result"
    }
   ],
   "source": [
    "df.drop(df.columns[[2]], axis=1, inplace=True)\n",
    "df.head()"
   ]
  },
  {
   "cell_type": "markdown",
   "metadata": {
    "deletable": true,
    "editable": true
   },
   "source": [
    "<h2>Normalizing and removing the null data points</h2>"
   ]
  },
  {
   "cell_type": "code",
   "execution_count": 42,
   "metadata": {
    "collapsed": false,
    "deletable": true,
    "editable": true
   },
   "outputs": [
    {
     "name": "stdout",
     "output_type": "stream",
     "text": [
      "              Open          High         Close    Volume\n",
      "0     2.335000e-07  2.335000e-07  2.115000e-07  0.000124\n",
      "1     2.390000e-07  2.450000e-07  2.220000e-07  0.000200\n",
      "2     2.400000e-07  2.450000e-07  2.277500e-07  0.000182\n",
      "3     2.445000e-07  2.500000e-07  2.500000e-07  0.000091\n",
      "4     2.430000e-07  2.500000e-07  2.395000e-07  0.000081\n",
      "...            ...           ...           ...       ...\n",
      "2707  1.560000e-08  1.560000e-08  1.560000e-08  0.000000\n",
      "2708  1.710000e-08  1.710000e-08  1.710000e-08  0.000004\n",
      "2709  1.790000e-08  1.790000e-08  1.790000e-08  0.000002\n",
      "2710  1.870000e-08  1.870000e-08  1.870000e-08  0.000026\n",
      "2711  1.880000e-08  1.900000e-08  1.870000e-08  0.000002\n",
      "\n",
      "[2712 rows x 4 columns]\n"
     ]
    }
   ],
   "source": [
    "df['Open'] = df['Open']/100\n",
    "df['High'] = df['High']/100\n",
    "df['Volume'] = df['Volume']/100000000\n",
    "df['Close'] = df['Close']/100\n",
    "print(df)\n",
    "nan_value_index = []\n",
    "High = df.High.isnull()\n",
    "for i in range(0, len(High)):\n",
    "    if High[i] == 1:\n",
    "        nan_value_index.append(i)\n",
    "        df['High'][i] = 0\n",
    "Open = df.Open.isnull()\n",
    "for i in range(0, len(Open)):\n",
    "    if Open[i] == 1:\n",
    "        nan_value_index.append(i)\n",
    "        df['Open'][i] = 0\n",
    "Volume = df.Volume.isnull()\n",
    "for i in range(0, len(Volume)):\n",
    "    if Volume[i] == 1:\n",
    "        nan_value_index.append(i)\n",
    "        df['Volume'][i] = 0\n",
    "Close = df.Close.isnull()\n",
    "for i in range(0, len(Close)):\n",
    "    if Close[i] == 1:\n",
    "        nan_value_index.append(i)\n",
    "        df['Close'][i] = 0"
   ]
  },
  {
   "cell_type": "code",
   "execution_count": 43,
   "metadata": {},
   "outputs": [],
   "source": [
    "X = df[['High','Open', 'Volume']]\n",
    "Y = df[['Close']]\n",
    "factor = 0.80\n",
    "length = X.shape[0]\n",
    "total_for_train = int(length*factor)\n",
    "X_train = X[:total_for_train]\n",
    "Y_train = Y[:total_for_train]\n",
    "X_test = X[total_for_train:]\n",
    "Y_test = Y[total_for_train:]"
   ]
  },
  {
   "cell_type": "code",
   "execution_count": 44,
   "metadata": {
    "collapsed": false,
    "deletable": true,
    "editable": true
   },
   "outputs": [
    {
     "name": "stdout",
     "output_type": "stream",
     "text": [
      "X_train (2169, 3)\n",
      "y_train (2169, 1)\n",
      "X_test (543, 3)\n",
      "y_test (543, 1)\n"
     ]
    }
   ],
   "source": [
    "print(\"X_train\", X_train.shape)\n",
    "print(\"y_train\", Y_train.shape)\n",
    "print(\"X_test\", X_test.shape)\n",
    "print(\"y_test\", Y_test.shape)"
   ]
  },
  {
   "cell_type": "markdown",
   "metadata": {},
   "source": [
    "<h2>Compiling and training the neural network model</h2>"
   ]
  },
  {
   "cell_type": "code",
   "execution_count": 45,
   "metadata": {
    "collapsed": true,
    "deletable": true,
    "editable": true
   },
   "outputs": [
    {
     "name": "stdout",
     "output_type": "stream",
     "text": [
      "Epoch 1/10\n",
      "17/17 [==============================] - 0s 6ms/step - loss: 1.0595e-07 - val_loss: 2.2901e-08\n",
      "Epoch 2/10\n",
      "17/17 [==============================] - 0s 2ms/step - loss: 1.7686e-08 - val_loss: 2.6074e-10\n",
      "Epoch 3/10\n",
      "17/17 [==============================] - 0s 2ms/step - loss: 2.8459e-09 - val_loss: 3.8912e-12\n",
      "Epoch 4/10\n",
      "17/17 [==============================] - 0s 2ms/step - loss: 5.2633e-10 - val_loss: 3.6486e-10\n",
      "Epoch 5/10\n",
      "17/17 [==============================] - 0s 3ms/step - loss: 1.1144e-10 - val_loss: 1.1878e-11\n",
      "Epoch 6/10\n",
      "17/17 [==============================] - 0s 3ms/step - loss: 1.8102e-11 - val_loss: 1.4335e-12\n",
      "Epoch 7/10\n",
      "17/17 [==============================] - 0s 2ms/step - loss: 3.1956e-12 - val_loss: 1.8527e-12\n",
      "Epoch 8/10\n",
      "17/17 [==============================] - 0s 2ms/step - loss: 6.0526e-13 - val_loss: 9.3629e-14\n",
      "Epoch 9/10\n",
      "17/17 [==============================] - 0s 2ms/step - loss: 1.0044e-13 - val_loss: 3.6456e-14\n",
      "Epoch 10/10\n",
      "17/17 [==============================] - 0s 2ms/step - loss: 2.4341e-14 - val_loss: 1.8632e-15\n"
     ]
    },
    {
     "data": {
      "text/plain": [
       "<keras.callbacks.History at 0x226419bddc0>"
      ]
     },
     "execution_count": 45,
     "metadata": {},
     "output_type": "execute_result"
    }
   ],
   "source": [
    "classifier = Sequential()\n",
    "classifier.add(Dense(units = 32, kernel_initializer = 'uniform', activation = 'relu', input_dim = 3))\n",
    "classifier.add(Dense(units = 10, kernel_initializer = 'uniform', activation = 'relu'))\n",
    "classifier.add(Dense(units = 1, kernel_initializer = 'uniform', activation = 'linear'))\n",
    "classifier.compile(optimizer = 'adam', loss = 'mean_squared_error', metrics = [])\n",
    "classifier.fit(X_train, Y_train, batch_size = 128, epochs = 10, validation_split=0.05)"
   ]
  },
  {
   "cell_type": "markdown",
   "metadata": {},
   "source": [
    "<h2>Predicted Values</h2>"
   ]
  },
  {
   "cell_type": "code",
   "execution_count": 46,
   "metadata": {},
   "outputs": [
    {
     "name": "stdout",
     "output_type": "stream",
     "text": [
      "17/17 [==============================] - 0s 686us/step\n",
      "[[-7.843482e-09]\n",
      " [-7.828930e-09]\n",
      " [-7.843482e-09]\n",
      " [-7.799827e-09]\n",
      " [-7.828930e-09]\n",
      " [-7.828930e-09]\n",
      " [-7.828930e-09]\n",
      " [-7.828930e-09]\n",
      " [-7.799827e-09]\n",
      " [-7.843482e-09]]\n"
     ]
    }
   ],
   "source": [
    "predictions = classifier.predict(X_test)\n",
    "print(predictions[:10])"
   ]
  },
  {
   "cell_type": "markdown",
   "metadata": {},
   "source": [
    "Execute the trained model"
   ]
  },
  {
   "cell_type": "markdown",
   "metadata": {},
   "source": [
    "<h2>Calculating the error in the trained Neural Network model</h2>"
   ]
  },
  {
   "cell_type": "code",
   "execution_count": 47,
   "metadata": {
    "collapsed": false
   },
   "outputs": [
    {
     "name": "stdout",
     "output_type": "stream",
     "text": [
      "Train Score: 0.00 MSE (0.00 RMSE)\n",
      "Test Score: 0.00 MSE (0.00 RMSE)\n"
     ]
    }
   ],
   "source": [
    "trainScore = classifier.evaluate(X_train, Y_train, verbose=0)\n",
    "print('Train Score: %.2f MSE (%.2f RMSE)' % (trainScore, math.sqrt(trainScore)))\n",
    "testScore = classifier.evaluate(X_test, Y_test, verbose=0)\n",
    "print('Test Score: %.2f MSE (%.2f RMSE)' % (testScore, math.sqrt(testScore)))"
   ]
  },
  {
   "cell_type": "markdown",
   "metadata": {},
   "source": [
    "<h2>Predictions vs Real results</h2>"
   ]
  },
  {
   "cell_type": "code",
   "execution_count": 48,
   "metadata": {
    "collapsed": false
   },
   "outputs": [
    {
     "data": {
      "image/png": "[encoded data removed]",
      "text/plain": [
       "<Figure size 432x288 with 1 Axes>"
      ]
     },
     "metadata": {
      "needs_background": "light"
     },
     "output_type": "display_data"
    },
    {
     "data": {
      "image/png": "[encoded data removed]",
      "text/plain": [
       "<Figure size 432x288 with 1 Axes>"
      ]
     },
     "metadata": {
      "needs_background": "light"
     },
     "output_type": "display_data"
    }
   ],
   "source": [
    "import matplotlib.pyplot as plt\n",
    "plt.plot(predictions,color='red', label='Predictions from the trained model')\n",
    "plt.legend(loc='upper left')\n",
    "plt.show()\n",
    "plt.plot(Y_test,color='blue', label='Read values for the stock')\n",
    "plt.legend(loc='upper left')\n",
    "plt.show()"
   ]
  }
 ],
 "metadata": {
  "kernelspec": {
   "display_name": "Python 3.9.0 64-bit",
   "language": "python",
   "name": "python3"
  },
  "language_info": {
   "codemirror_mode": {
    "name": "ipython",
    "version": 3
   },
   "file_extension": ".py",
   "mimetype": "text/x-python",
   "name": "python",
   "nbconvert_exporter": "python",
   "pygments_lexer": "ipython3",
   "version": "3.9.0"
  },
  "vscode": {
   "interpreter": {
    "hash": "0de31ffdd40f2f237d26afe08c835de62c2698e1ec6f1475be55df7fc2e3a0d6"
   }
  }
 },
 "nbformat": 4,
 "nbformat_minor": 2
}
